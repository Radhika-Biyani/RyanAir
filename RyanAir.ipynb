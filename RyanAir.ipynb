{
 "cells": [
  {
   "cell_type": "code",
   "execution_count": 23,
   "metadata": {
    "collapsed": false
   },
   "outputs": [
    {
     "name": "stdout",
     "output_type": "stream",
     "text": [
      "\n",
      "====================================================================================================\n",
      "Data\n",
      "\n",
      "comuincation held for 4 hours not even a cup of tea discraciful !!\r\n",
      "Other passengers had More than the allowed handluggage trough this there was no place for our luggage in the surrounding of our chair.\r\n",
      "Other passengers had More than the allowed handluggage trough this there was no place for our luggage in the surrounding of our chair.\r\n",
      "Late both ways\r\n",
      "Nein\r\n",
      "I accept that to offer the prices you do you have to squeeze in the seats however people who are significantly overweight should pay for an extra seat. My wife who is small had to endure elbows and constant prodding from an ignorant passenger who was \r\n",
      "just the leg room \r\n",
      "It is not true the first 90 suitcases fit inside the flight. Ground staff never count for that reason at the enf of boarding cue get their luggage in\r\n",
      "Earplugs\r\n",
      "No\r\n",
      "A member of staff at Dinard airport was really aggressive and arrogant\r\n",
      "Puntualit_\r\n",
      "please continue as you are doing now!\r\n",
      "Your CEO.\r\n",
      "THE IMAGE OF RYANAIR HAS REALLY IMPROVED.  THE UNIFORM IS VERY SMART ALL THE STAFF WERE VERY PLEASANT AND HELPFUL.  I WOULD DEFINATELY FLY RYANAIR AGAIN\r\n",
      "no\r\n",
      "Be upfront about baggage costs !!!!!!!!!!!!!!!!!!!!!!!!!!!!!!!!!!!!!!!!!!!!!!!!!!!\r\n",
      "please clean you onboard toilets - they were filthy and not cleaned at all on either flights despite several 100 people using them\r\n",
      "Dimmer lights during night time flights. Stewart's should ask passengers to be quite during the safety tutorial as I couldn't here what the stuarts were saying because of three women talking right I front of \r\n",
      "Yes! Let you know why on earth your 2 hour flight could be delayed by 6 hours. Only once we boarded were we told it was an \"operational delay\" what ever that meant. Very poor.\r\n",
      "Warn passengers to take care when putting / taking bags in/ from overhead bins - I was hit on head TWICE - & far as I recall didn't hear any messages. U need to take this seriously as young passengers can be v careless & you liable for injuries if necessary - ie effective - warnings not given.\r\n",
      "Provide free refreshments when having to wait an hour on a hot plane before take off.\r\n",
      "remove your company from transporting people \r\n",
      "I don't like the name Ryanair. It should be called Saulair. Also the plane was too quiet. I want to hear the engine more. \r\n",
      "The flight attendant's ENGLISH was horrific. It was impossible to understand a word particularly over the sound system.\r\n",
      "Make sure that flights are on time - I had delay in both out and return flight. Furthermore - I don't understand a word from the cabin crew - they speak too fast too automatic and with too much accent.\r\n",
      "No\r\n",
      "checking in online is a nightmare also finding links to  insurance docs is very hard  also one drinks trolley on board aircraft is a joke\r\n",
      "Boarding is always stressful! Standing on stairs at the gate for 10 minutes is a pain.\r\n",
      "yesrebooking prices\r\n",
      "Put the compartment back on the back of the seats!! Have no where to put anything\r\n",
      "make the room between the seats a bit bigger. It was unpleasent for me to sit like that even though is was only a couple of hours.\r\n",
      "Guys please make something with boarding. It cannnot be like this after crossing gate people are crowded in small corridors staircases rooms without option to sit even move. I'm not expecting free drinks I just would like to be treated as a human not load. If you will be able to fix problems after checking boarding passes you will became first fair-cost airline.\r\n",
      "All 4 recent flights were late (in one case 2 hours late so I missed connecting train) so timekeeping could be improved. Staff refused to take an apple core as rubbish - service needs improved. On 3 of the 4 flights I had to check cabin baggage in as hold baggage as flights were full - need better cabin storage arrangements. In the case where the flight was delayed 2 hours (over an hour on the tarmac) I was still expected to pay for a drink of water. I find this unacceptable.\r\n",
      "Loyalty system that remembers my details and rewards me for being a loyal customer\r\n",
      "Not being transferred to another gate then having to wait for an extra half hour in a room of 400 approx people and hot as anything but then a further 25 minutes in a hot house with all passengers before embarking. No explanations much. Would think twice\r\n",
      "We had a 1 hour flight delay on the return flight. It would have been nice to receive an apology for this and also an explanation for the delay.\r\n",
      "tHE CHECK IN EXPERIENCE AT THE UK END IS ALWAYS MORE DIFFICULT THAN AT THE SPANISH END\r\n",
      "Leg room \r\n",
      "Customer service is free. Your crew seem miserable. Will fly with you because of prices but don't enjoy.\r\n",
      "I think drinking water at least give free for families.\r\n",
      "Customer care\r\n",
      "Idiots in the way trying to put bags up and causing delays by not letting people past\r\n",
      "Staff interaction\r\n",
      "Allow me to take a hot drink on the plane. Had to throw my brand new coffee away \r\n",
      "Priority boarding st Athens airport not adhered to at first\r\n",
      "Yes: boarding experience terrible as queues are not organised and kept in small pen and bus for far too long : property boarders should be treated better and more efficiently\r\n",
      "expand to 15 without the checking line cost Ryanair\r\n",
      "YES When we reserve Nr of armchair on board and when we pay this service we should go on board first and foremost the first ones.\r\n",
      "Security at East Midlands Airport.\r\n",
      "Being on time. There was 1 hour's delay in departing to Wroclaw and 40 minutes delay going back to Dublin\r\n",
      "no\r\n",
      "not that i can think of\r\n",
      "Had hand baggage which I had to put in the hold.  On arrival in Lisbon my case had been left in the rain and the contents soaking wet.  Very unlikely to travel with your airline again.\r\n",
      "The plane was dirty. The boarding process was horrendous. The flight was delayed 45 minutes.\r\n",
      "Despite bad press flight was perfect efficient and early. I'm a frequent flyer with other lines.\r\n",
      "DO NOT BREAK THE LUGGAGE OF YOUR CUSTOMER AND IF YOU DO SO REFUND THEM\r\n",
      "When is long delay you should give more information about the reason of it. The comunication is very poor.\r\n",
      "I cannot fault Ryanair for service and value for money although extra legroom in all seats would be a bonus.\r\n",
      "Control of loud drunk swearing passengers who were drinking there own alcohol.\r\n",
      "Plane was quite dirty with food and rubbish left in the seats and footwell this isn't very pleasant to begin the journey with.\r\n",
      "Not so many commercials and announcements on the plane no one pays attention to it it is a very annoying polluting sound\r\n",
      "Boarding procedures. They are very slow and inefficient \r\n",
      "Boarding procedures. They are very slow and inefficient \r\n",
      "Air conditioning made it very cold especially sitting in a window seat\r\n",
      "People pushed past so priority was not boarded exclusively first on this flight. You could be more friendly when flying with children. I always use ryanair for business but wouldn't necessarily choose to fly for pleasure.\r\n",
      "Standing bottom of stairs as a priority customer waiting to board\r\n",
      "Boarding  and terrible changing gates all the times \r\n",
      "Please make sure you have resources ready for when there are passengers with special needs.\r\n",
      "NEED POUCHES ON BACK OF CHAIRS TO PUT MAGAZINE IN ETC \r\n",
      "The policy on cabin luggage. On last 3 trips I've had to check my hand luggage into the hold only to get on the flight and see empty overhead bins\r\n",
      "You are doing a very good job!\r\n",
      "Better overall experience for Business +\r\n",
      "Seat spacing \r\n",
      "My twins names are Ryan and Rya (5 years old). The first flight in their life (and definatelly not the wast one) was with Ryanair. They stil think that their names are written on the planes - Thank you for the professional services! Just the experience with rental car company (throu you) was not strongly positive.\r\n",
      "Having food on board to sell to customers\r\n",
      "sole criticism is having bought a priority boarding ticket and made our way to the gate as soo as it was announced we found ourselves at the back of a long queue.  Our purchase of Prioriy Boarding should be credired for our next flight.\r\n",
      "It's the behaviour of its passenger !!! public should not have to put up with this type of POND life onboard.\r\n",
      "Your online customer information consultants gave us poor -- no inaccurate -- information.  Because we were told we couldn't pay for or check baggae we were forced to purchase and use new luggage that fit the requirements and carry far less than was comfortable for our three-week stay in Italy.  We found ourselves traveling with others who had far more and heavier luggae and who were able to pay for and check additional bags.\r\n",
      "Lack of supplies on board- especially drinks. Staff allocated our pre-booked seats to another family causing take off to be delayed. Some staff were rude & sarcastic. Very disappointed.\r\n",
      "Please extend the check in online from 7 to 14 days as many peple travel more more than one week. It makes travelling more akward to check in abroad. \r\n",
      "We must wait a flight one hour. Not be delay\r\n",
      "Seat by row numbers after priority. It's so much more civilised especially for families with children.\r\n",
      "More flights :)\r\n",
      "Flying with Ryanair has become much much more pleasant than it was a few years ago!\r\n",
      "Insist that people with oversized bags put them in the hold.\r\n",
      "More legroom on board choice of snacks\r\n",
      "I am a great fan of Ryanair and very satisfied with  the flexibility it offers....nice not to have to force your handbag into your suitcase which is a big minus with Wizzair...but Wizzair is often cheaper and when I hsve no luggage  I fly with Wizzair\r\n",
      "Big queues at check in - maybe extra check in desks\r\n",
      "in-flight magazine and shopping brochure in each seat and not having to ask crew for one..inconvenience \r\n",
      "The space between the rows of the seats and the availability of a pocket on the back of each seat to put the things away\r\n",
      "STAFF ON OUR FLIGHT FROM MURCIA TO DUBLIN WERE EXCELLENT.  THEY HAD NO WINE/BEER/ MOST FOOD ON BOARD SO DIFFICULT FOR THEM.  ONE MEMBER OF CABIN CREW WAS EXCEPTIONAL IM SORRY I DIDNT GET HIS NAME TO PUT HIM FORWARD FOR EMPLOYEE OF THE MONTH.\r\n",
      "Have more offers for Greece ;) Im looking\n"
     ]
    }
   ],
   "source": [
    "import nltk\n",
    "import codecs\n",
    "\n",
    "with codecs.open('ryanair_data.txt', \"r\",encoding='utf-8', errors='ignore') as file:\n",
    "        ryanair_data1 = file.read().decode('UTF-8')\n",
    "\n",
    "\n",
    "print (\"\\n\" + \"=\" * 100 )\n",
    "print (\"Data\\n\")\n",
    "\n",
    "# print first 500 characters\n",
    "print(ryanair_data1[:10000])\n"
   ]
  },
  {
   "cell_type": "code",
   "execution_count": 24,
   "metadata": {
    "collapsed": false
   },
   "outputs": [
    {
     "name": "stdout",
     "output_type": "stream",
     "text": [
      "\n",
      "====================================================================================================\n",
      "Sinn Fein mannifesto\n",
      "\n",
      "('Number of sentences: ', 28078)\n",
      "('Shortest sentence length: ', 1)\n",
      "('Maximum sentance length: ', 1443)\n",
      "('Number of words: ', 609570)\n"
     ]
    }
   ],
   "source": [
    "sf_sentences = nltk.sent_tokenize(ryanair_data1)\n",
    "sf_words = nltk.word_tokenize(ryanair_data1)\n",
    "\n",
    "# find the longest and shortest sentences\n",
    "sf_min_sentences_length = len(min(sf_sentences, key=len))\n",
    "sf_max_sentences_length = len(max(sf_sentences, key=len))\n",
    "\n",
    "print (\"\\n\" + \"=\" * 100)\n",
    "print (\"Sinn Fein mannifesto\\n\")\n",
    "\n",
    "# output count of total sentences, shortest and longest\n",
    "print(\"Number of sentences: \", len(sf_sentences))\n",
    "print(\"Shortest sentence length: \", sf_min_sentences_length)\n",
    "print(\"Maximum sentance length: \", sf_max_sentences_length)\n",
    "\n",
    "# output number of words\n",
    "print(\"Number of words: \", len(sf_words))\n"
   ]
  },
  {
   "cell_type": "code",
   "execution_count": null,
   "metadata": {
    "collapsed": true
   },
   "outputs": [],
   "source": []
  }
 ],
 "metadata": {
  "kernelspec": {
   "display_name": "Python 2",
   "language": "python",
   "name": "python2"
  },
  "language_info": {
   "codemirror_mode": {
    "name": "ipython",
    "version": 2
   },
   "file_extension": ".py",
   "mimetype": "text/x-python",
   "name": "python",
   "nbconvert_exporter": "python",
   "pygments_lexer": "ipython2",
   "version": "2.7.11"
  }
 },
 "nbformat": 4,
 "nbformat_minor": 0
}
