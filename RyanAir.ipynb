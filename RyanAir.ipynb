{
 "cells": [
  {
   "cell_type": "code",
   "execution_count": 25,
   "metadata": {
    "collapsed": false
   },
   "outputs": [
    {
     "name": "stdout",
     "output_type": "stream",
     "text": [
      "\n",
      "====================================================================================================\n",
      "Data\n",
      "\n"
     ]
    }
   ],
   "source": [
    "import nltk\n",
    "import codecs\n",
    "\n",
    "with codecs.open('ryanair_data.txt', \"r\",encoding='utf-8', errors='ignore') as file:\n",
    "        ryanair_data1 = file.read().decode('UTF-8')\n",
    "\n",
    "\n",
    "print (\"\\n\" + \"=\" * 100 )\n",
    "print (\"Data\\n\")\n",
    "\n",
    "# print first 500 characters\n",
    "#print(ryanair_data1[:10000])\n"
   ]
  },
  {
   "cell_type": "code",
   "execution_count": 24,
   "metadata": {
    "collapsed": false
   },
   "outputs": [
    {
     "name": "stdout",
     "output_type": "stream",
     "text": [
      "\n",
      "====================================================================================================\n",
      "Sinn Fein mannifesto\n",
      "\n",
      "('Number of sentences: ', 28078)\n",
      "('Shortest sentence length: ', 1)\n",
      "('Maximum sentance length: ', 1443)\n",
      "('Number of words: ', 609570)\n"
     ]
    }
   ],
   "source": [
    "sf_sentences = nltk.sent_tokenize(ryanair_data1)\n",
    "sf_words = nltk.word_tokenize(ryanair_data1)\n",
    "\n",
    "# find the longest and shortest sentences\n",
    "sf_min_sentences_length = len(min(sf_sentences, key=len))\n",
    "sf_max_sentences_length = len(max(sf_sentences, key=len))\n",
    "\n",
    "print (\"\\n\" + \"=\" * 100)\n",
    "print (\"Sinn Fein mannifesto\\n\")\n",
    "\n",
    "# output count of total sentences, shortest and longest\n",
    "print(\"Number of sentences: \", len(sf_sentences))\n",
    "print(\"Shortest sentence length: \", sf_min_sentences_length)\n",
    "print(\"Maximum sentance length: \", sf_max_sentences_length)\n",
    "\n",
    "# output number of words\n",
    "print(\"Number of words: \", len(sf_words))\n"
   ]
  },
  {
   "cell_type": "code",
   "execution_count": null,
   "metadata": {
    "collapsed": true
   },
   "outputs": [],
   "source": []
  }
 ],
 "metadata": {
  "kernelspec": {
   "display_name": "Python 2",
   "language": "python",
   "name": "python2"
  },
  "language_info": {
   "codemirror_mode": {
    "name": "ipython",
    "version": 2
   },
   "file_extension": ".py",
   "mimetype": "text/x-python",
   "name": "python",
   "nbconvert_exporter": "python",
   "pygments_lexer": "ipython2",
   "version": "2.7.11"
  }
 },
 "nbformat": 4,
 "nbformat_minor": 0
}
